{
 "cells": [
  {
   "cell_type": "markdown",
   "metadata": {},
   "source": [
    "# Collaboration and Competition"
   ]
  },
  {
   "cell_type": "markdown",
   "metadata": {},
   "source": [
    "In this notebook, we're training two agents to play Tennis: control rackets to bounce a ball over a net"
   ]
  },
  {
   "cell_type": "markdown",
   "metadata": {},
   "source": [
    "### 1. Packages"
   ]
  },
  {
   "cell_type": "markdown",
   "metadata": {},
   "source": [
    "Let's import the necessary packages"
   ]
  },
  {
   "cell_type": "code",
   "execution_count": 1,
   "metadata": {},
   "outputs": [],
   "source": [
    "from unityagents import UnityEnvironment\n",
    "import numpy as np\n",
    "import torch\n",
    "import torch.nn as nn\n",
    "import time\n",
    "from ddpg_agent import Agent\n",
    "from collections import deque\n",
    "import matplotlib.pyplot as plt\n",
    "%matplotlib inline"
   ]
  },
  {
   "cell_type": "markdown",
   "metadata": {},
   "source": [
    "### 2. Start the environment\n",
    "\n",
    "As we will start the environment please change the `file_name` parameter to match the location of the Unity environment that you downloaded."
   ]
  },
  {
   "cell_type": "code",
   "execution_count": 2,
   "metadata": {},
   "outputs": [
    {
     "name": "stderr",
     "output_type": "stream",
     "text": [
      "INFO:unityagents:\n",
      "'Academy' started successfully!\n",
      "Unity Academy name: Academy\n",
      "        Number of Brains: 1\n",
      "        Number of External Brains : 1\n",
      "        Lesson number : 0\n",
      "        Reset Parameters :\n",
      "\t\t\n",
      "Unity brain name: TennisBrain\n",
      "        Number of Visual Observations (per agent): 0\n",
      "        Vector Observation space type: continuous\n",
      "        Vector Observation space size (per agent): 8\n",
      "        Number of stacked Vector Observation: 3\n",
      "        Vector Action space type: continuous\n",
      "        Vector Action space size (per agent): 2\n",
      "        Vector Action descriptions: , \n"
     ]
    },
    {
     "name": "stdout",
     "output_type": "stream",
     "text": [
      "Number of agents: 2\n",
      "Number of actions: 2\n",
      "States look like: [ 0.          0.          0.          0.          0.          0.\n",
      "  0.          0.          0.          0.          0.          0.\n",
      "  0.          0.          0.          0.         -6.65278625 -1.5\n",
      " -0.          0.          6.83172083  6.         -0.          0.        ]\n",
      "States have length: 24\n",
      "Actor(\n",
      "  (fc1): Linear(in_features=24, out_features=256, bias=True)\n",
      "  (fc2): Linear(in_features=256, out_features=128, bias=True)\n",
      "  (fc3): Linear(in_features=128, out_features=2, bias=True)\n",
      ")\n",
      "Critic(\n",
      "  (fcs1): Linear(in_features=24, out_features=256, bias=True)\n",
      "  (fc2): Linear(in_features=258, out_features=128, bias=True)\n",
      "  (fc3): Linear(in_features=128, out_features=1, bias=True)\n",
      ")\n"
     ]
    }
   ],
   "source": [
    "env = UnityEnvironment(file_name='Tennis_Linux/Tennis.x86_64')\n",
    "# get the default brain\n",
    "brain_name = env.brain_names[0]\n",
    "brain = env.brains[brain_name]\n",
    "\n",
    "# reset the environment\n",
    "env_info = env.reset(train_mode=True)[brain_name]\n",
    "\n",
    "# number of agents in the environment\n",
    "print('Number of agents:', len(env_info.agents))\n",
    "num_agents = len(env_info.agents)\n",
    "\n",
    "# number of actions\n",
    "action_size = brain.vector_action_space_size\n",
    "print('Number of actions:', action_size)\n",
    "\n",
    "# examine the state space \n",
    "state = env_info.vector_observations[0]\n",
    "print('States look like:', state)\n",
    "state_size = len(state)\n",
    "print('States have length:', state_size)\n",
    "\n",
    "agent = Agent(state_size=state_size, action_size=action_size, num_agents= len(env_info.agents), random_seed=0)\n",
    "print(agent.actor_local)\n",
    "print(agent.critic_local)"
   ]
  },
  {
   "cell_type": "markdown",
   "metadata": {},
   "source": [
    "### 3. Train the agent using DDPG:"
   ]
  },
  {
   "cell_type": "code",
   "execution_count": 3,
   "metadata": {},
   "outputs": [],
   "source": [
    "def ddpg(n_episodes=5000,train=True):\n",
    "    scores_deque = deque(maxlen=100)\n",
    "    scores = []\n",
    "    avg_score_list=[]\n",
    "    max_score = 0\n",
    "    \n",
    "    for i_episode in range(1, n_episodes+1):\n",
    "        env_info = env.reset(train_mode=train)[brain_name]      \n",
    "        states = env_info.vector_observations\n",
    "        agent.reset()\n",
    "        score = np.zeros(num_agents)\n",
    "        \n",
    "        while True:\n",
    "            actions = agent.act(states)                        \n",
    "            env_info = env.step(actions)[brain_name]           \n",
    "            next_states = env_info.vector_observations         \n",
    "            rewards = env_info.rewards                         \n",
    "            dones = env_info.local_done                        \n",
    "            agent.step(states, actions, rewards, next_states, dones)\n",
    "            score += rewards                                   \n",
    "            states = next_states                               \n",
    "            if np.any(dones):                                  \n",
    "                break\n",
    "\n",
    "        scores_deque.append(np.mean(score))\n",
    "        scores.append(np.mean(score))\n",
    "        avg_score = np.mean(scores_deque)\n",
    "        avg_score_list.append(avg_score)\n",
    "        \n",
    "        print('\\rEpisode {}\\tAverage Score: {:.3f}\\tScore: {:.3f}'.format(i_episode,avg_score, np.mean(score)), end=\"\")\n",
    "        \n",
    "        if i_episode % 100 == 0 or avg_score >0.5:\n",
    "            print('\\rEpisode {}\\tAverage Score: {:.3f}'.format(i_episode,avg_score))\n",
    "            \n",
    "            torch.save(agent.actor_local.state_dict(), 'checkpoint_actor.pth')\n",
    "            torch.save(agent.critic_local.state_dict(), 'checkpoint_critic.pth')\n",
    "            \n",
    "            if avg_score >0.5:\n",
    "                print('\\Environment solved in {:d} episodes!'.format(i_episode))\n",
    "                break\n",
    "    return scores, avg_score_list"
   ]
  },
  {
   "cell_type": "code",
   "execution_count": 4,
   "metadata": {},
   "outputs": [
    {
     "name": "stdout",
     "output_type": "stream",
     "text": [
      "Episode 100\tAverage Score: -0.003\tScore: -0.005\n",
      "Episode 200\tAverage Score: -0.003\tScore: -0.005\n",
      "Episode 300\tAverage Score: 0.001\tScore: -0.0055\n",
      "Episode 400\tAverage Score: 0.004\tScore: -0.005\n",
      "Episode 500\tAverage Score: 0.011\tScore: -0.005\n",
      "Episode 600\tAverage Score: 0.012\tScore: 0.0455\n",
      "Episode 700\tAverage Score: -0.002\tScore: -0.005\n",
      "Episode 800\tAverage Score: 0.006\tScore: -0.0055\n",
      "Episode 900\tAverage Score: 0.044\tScore: 0.0455\n",
      "Episode 1000\tAverage Score: 0.063\tScore: 0.045\n",
      "Episode 1100\tAverage Score: 0.063\tScore: -0.005\n",
      "Episode 1200\tAverage Score: 0.106\tScore: 0.0955\n",
      "Episode 1300\tAverage Score: 0.115\tScore: 0.1455\n",
      "Episode 1400\tAverage Score: 0.153\tScore: 0.0455\n",
      "Episode 1500\tAverage Score: 0.123\tScore: 0.2455\n",
      "Episode 1600\tAverage Score: 0.174\tScore: 0.0955\n",
      "Episode 1700\tAverage Score: 0.212\tScore: 0.0955\n",
      "Episode 1800\tAverage Score: 0.361\tScore: 0.1955\n",
      "Episode 1880\tAverage Score: 0.502\tScore: 0.3955\n",
      "\\Environment solved in 1880 episodes!\n"
     ]
    }
   ],
   "source": [
    "scores, avg_score_list = ddpg()"
   ]
  },
  {
   "cell_type": "markdown",
   "metadata": {},
   "source": [
    "### 4. Close the environment"
   ]
  },
  {
   "cell_type": "code",
   "execution_count": null,
   "metadata": {},
   "outputs": [],
   "source": [
    "env.close()"
   ]
  },
  {
   "cell_type": "markdown",
   "metadata": {},
   "source": [
    "### 5. Plot the average scores over episodes"
   ]
  },
  {
   "cell_type": "code",
   "execution_count": null,
   "metadata": {},
   "outputs": [],
   "source": [
    "# plot the scores\n",
    "fig = plt.figure()\n",
    "ax = fig.add_subplot(111)\n",
    "plt.plot(np.arange(1, len(scores)+1), scores)\n",
    "plt.plot(np.arange(1, len(avg_score_list)+1), avg_score_list)\n",
    "plt.ylabel('Score')\n",
    "plt.xlabel('Episode #')\n",
    "plt.savefig('rewards_per_episode.png')\n",
    "plt.show()"
   ]
  }
 ],
 "metadata": {
  "kernelspec": {
   "display_name": "Python 3",
   "language": "python",
   "name": "python3"
  },
  "language_info": {
   "codemirror_mode": {
    "name": "ipython",
    "version": 3
   },
   "file_extension": ".py",
   "mimetype": "text/x-python",
   "name": "python",
   "nbconvert_exporter": "python",
   "pygments_lexer": "ipython3",
   "version": "3.6.5"
  }
 },
 "nbformat": 4,
 "nbformat_minor": 2
}
